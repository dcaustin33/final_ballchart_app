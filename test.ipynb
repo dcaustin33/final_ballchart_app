{
 "cells": [
  {
   "cell_type": "code",
   "execution_count": 2,
   "metadata": {},
   "outputs": [],
   "source": [
    "import pandas as pd\n",
    "\n",
    "df = pd.read_csv(\"static/output_files/final_val_output.csv\")"
   ]
  },
  {
   "cell_type": "code",
   "execution_count": 4,
   "metadata": {},
   "outputs": [],
   "source": [
    "def get_actual_time_stamp(row):\n",
    "    if row['label'] > 0:\n",
    "        return row['timestamp'] + row['label']/10\n",
    "    else:\n",
    "        return \"No Shot Recorded\"\n",
    "    \n",
    "df['actual_timestamp'] = df.apply(get_actual_time_stamp, axis=1)"
   ]
  },
  {
   "cell_type": "code",
   "execution_count": null,
   "metadata": {},
   "outputs": [],
   "source": [
    "df.to_csv(\"static/output_files/final_val_output.csv\", index=False)"
   ]
  },
  {
   "cell_type": "code",
   "execution_count": 18,
   "metadata": {},
   "outputs": [
    {
     "data": {
      "text/plain": [
       "'/Users/derek/.cache/huggingface/hub/datasets--dcaustin33--videos/snapshots/21afcfa0db0e52428641b2e34d283d27bcff85ba/UNC_v_Duke_apr_24_2022.mp4'"
      ]
     },
     "execution_count": 18,
     "metadata": {},
     "output_type": "execute_result"
    }
   ],
   "source": [
    "from huggingface_hub import hf_hub_download\n",
    "\n",
    "path = hf_hub_download(repo_id=\"dcaustin33/videos\", filename=\"UNC_v_Duke_apr_24_2022.mp4\", repo_type=\"dataset\")\n",
    "\n",
    "path"
   ]
  }
 ],
 "metadata": {
  "kernelspec": {
   "display_name": ".venv",
   "language": "python",
   "name": "python3"
  },
  "language_info": {
   "codemirror_mode": {
    "name": "ipython",
    "version": 3
   },
   "file_extension": ".py",
   "mimetype": "text/x-python",
   "name": "python",
   "nbconvert_exporter": "python",
   "pygments_lexer": "ipython3",
   "version": "3.9.13"
  }
 },
 "nbformat": 4,
 "nbformat_minor": 2
}
